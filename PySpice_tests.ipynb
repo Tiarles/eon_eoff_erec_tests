{
 "cells": [
  {
   "cell_type": "code",
   "execution_count": 1,
   "metadata": {},
   "outputs": [
    {
     "name": "stderr",
     "output_type": "stream",
     "text": [
      "c:\\users\\tiarl\\appdata\\local\\programs\\python\\python36-32\\lib\\site-packages\\PySpice\\Logging\\Logging.py:47: YAMLLoadWarning: calling yaml.load() without Loader=... is deprecated, as the default Loader is unsafe. Please read https://msg.pyyaml.org/load for full details.\n",
      "  logging_config = yaml.load(open(logging_config_file_name, 'r'))\n"
     ]
    }
   ],
   "source": [
    "import PySpice.Logging.Logging as Logging\n",
    "logger = Logging.setup_logging()\n",
    "\n",
    "\n",
    "from PySpice.Spice.Netlist import Circuit\n",
    "from PySpice.Unit import *"
   ]
  },
  {
   "cell_type": "code",
   "execution_count": 2,
   "metadata": {},
   "outputs": [
    {
     "name": "stdout",
     "output_type": "stream",
     "text": [
      "2019-06-10 16:36:30,881 - PySpice.Spice.Netlist.Node - Netlist.WARNING - Node name 'in' is a Python keyword\n",
      "2019-06-10 16:36:30,944 - PySpice.Spice.NgSpice.Shared.NgSpiceShared - Shared.INFO - New instance for id 0\n"
     ]
    },
    {
     "ename": "OSError",
     "evalue": "cannot load library 'C:\\Program Files\\Spice_dll\\dll-vs\\ngspice.dll': error 0x7e.  Additionally, ctypes.util.find_library() did not manage to locate a library called 'C:\\\\Program Files\\\\Spice_dll\\\\dll-vs\\\\ngspice.dll'",
     "output_type": "error",
     "traceback": [
      "\u001b[1;31m---------------------------------------------------------------------------\u001b[0m",
      "\u001b[1;31mOSError\u001b[0m                                   Traceback (most recent call last)",
      "\u001b[1;32m<ipython-input-2-4d9487707b4a>\u001b[0m in \u001b[0;36m<module>\u001b[1;34m\u001b[0m\n\u001b[0;32m      6\u001b[0m \u001b[1;33m\u001b[0m\u001b[0m\n\u001b[0;32m      7\u001b[0m \u001b[1;33m\u001b[0m\u001b[0m\n\u001b[1;32m----> 8\u001b[1;33m \u001b[0msimulator\u001b[0m \u001b[1;33m=\u001b[0m \u001b[0mcircuit\u001b[0m\u001b[1;33m.\u001b[0m\u001b[0msimulator\u001b[0m\u001b[1;33m(\u001b[0m\u001b[0mtemperature\u001b[0m\u001b[1;33m=\u001b[0m\u001b[1;36m25\u001b[0m\u001b[1;33m,\u001b[0m \u001b[0mnominal_temperature\u001b[0m\u001b[1;33m=\u001b[0m\u001b[1;36m25\u001b[0m\u001b[1;33m)\u001b[0m\u001b[1;33m\u001b[0m\u001b[1;33m\u001b[0m\u001b[0m\n\u001b[0m\u001b[0;32m      9\u001b[0m \u001b[1;33m\u001b[0m\u001b[0m\n\u001b[0;32m     10\u001b[0m \u001b[0manalysis\u001b[0m \u001b[1;33m=\u001b[0m \u001b[0msimulator\u001b[0m\u001b[1;33m.\u001b[0m\u001b[0moperating_point\u001b[0m\u001b[1;33m(\u001b[0m\u001b[1;33m)\u001b[0m\u001b[1;33m\u001b[0m\u001b[1;33m\u001b[0m\u001b[0m\n",
      "\u001b[1;32mc:\\users\\tiarl\\appdata\\local\\programs\\python\\python36-32\\lib\\site-packages\\PySpice\\Spice\\Netlist.py\u001b[0m in \u001b[0;36msimulator\u001b[1;34m(self, *args, **kwargs)\u001b[0m\n\u001b[0;32m   1279\u001b[0m \u001b[1;33m\u001b[0m\u001b[0m\n\u001b[0;32m   1280\u001b[0m     \u001b[1;32mdef\u001b[0m \u001b[0msimulator\u001b[0m\u001b[1;33m(\u001b[0m\u001b[0mself\u001b[0m\u001b[1;33m,\u001b[0m \u001b[1;33m*\u001b[0m\u001b[0margs\u001b[0m\u001b[1;33m,\u001b[0m \u001b[1;33m**\u001b[0m\u001b[0mkwargs\u001b[0m\u001b[1;33m)\u001b[0m\u001b[1;33m:\u001b[0m\u001b[1;33m\u001b[0m\u001b[1;33m\u001b[0m\u001b[0m\n\u001b[1;32m-> 1281\u001b[1;33m         \u001b[1;32mreturn\u001b[0m \u001b[0mCircuitSimulator\u001b[0m\u001b[1;33m.\u001b[0m\u001b[0mfactory\u001b[0m\u001b[1;33m(\u001b[0m\u001b[0mself\u001b[0m\u001b[1;33m,\u001b[0m \u001b[1;33m*\u001b[0m\u001b[0margs\u001b[0m\u001b[1;33m,\u001b[0m \u001b[1;33m**\u001b[0m\u001b[0mkwargs\u001b[0m\u001b[1;33m)\u001b[0m\u001b[1;33m\u001b[0m\u001b[1;33m\u001b[0m\u001b[0m\n\u001b[0m",
      "\u001b[1;32mc:\\users\\tiarl\\appdata\\local\\programs\\python\\python36-32\\lib\\site-packages\\PySpice\\Spice\\Simulation.py\u001b[0m in \u001b[0;36mfactory\u001b[1;34m(cls, circuit, *args, **kwargs)\u001b[0m\n\u001b[0;32m    706\u001b[0m \u001b[1;33m\u001b[0m\u001b[0m\n\u001b[0;32m    707\u001b[0m         \u001b[1;32mif\u001b[0m \u001b[0msub_cls\u001b[0m \u001b[1;32mis\u001b[0m \u001b[1;32mnot\u001b[0m \u001b[1;32mNone\u001b[0m\u001b[1;33m:\u001b[0m\u001b[1;33m\u001b[0m\u001b[1;33m\u001b[0m\u001b[0m\n\u001b[1;32m--> 708\u001b[1;33m             \u001b[1;32mreturn\u001b[0m \u001b[0msub_cls\u001b[0m\u001b[1;33m(\u001b[0m\u001b[0mcircuit\u001b[0m\u001b[1;33m,\u001b[0m \u001b[1;33m*\u001b[0m\u001b[0margs\u001b[0m\u001b[1;33m,\u001b[0m \u001b[1;33m**\u001b[0m\u001b[0mkwargs\u001b[0m\u001b[1;33m)\u001b[0m\u001b[1;33m\u001b[0m\u001b[1;33m\u001b[0m\u001b[0m\n\u001b[0m\u001b[0;32m    709\u001b[0m         \u001b[1;32melse\u001b[0m\u001b[1;33m:\u001b[0m\u001b[1;33m\u001b[0m\u001b[1;33m\u001b[0m\u001b[0m\n\u001b[0;32m    710\u001b[0m             \u001b[1;32mraise\u001b[0m \u001b[0mValueError\u001b[0m\u001b[1;33m(\u001b[0m\u001b[1;34m'Unknown simulator type'\u001b[0m\u001b[1;33m)\u001b[0m\u001b[1;33m\u001b[0m\u001b[1;33m\u001b[0m\u001b[0m\n",
      "\u001b[1;32mc:\\users\\tiarl\\appdata\\local\\programs\\python\\python36-32\\lib\\site-packages\\PySpice\\Spice\\NgSpice\\Simulation.py\u001b[0m in \u001b[0;36m__init__\u001b[1;34m(self, circuit, **kwargs)\u001b[0m\n\u001b[0;32m     97\u001b[0m         \u001b[0mngspice_shared\u001b[0m \u001b[1;33m=\u001b[0m \u001b[0mkwargs\u001b[0m\u001b[1;33m.\u001b[0m\u001b[0mget\u001b[0m\u001b[1;33m(\u001b[0m\u001b[1;34m'ngspice_shared'\u001b[0m\u001b[1;33m,\u001b[0m \u001b[1;32mNone\u001b[0m\u001b[1;33m)\u001b[0m\u001b[1;33m\u001b[0m\u001b[1;33m\u001b[0m\u001b[0m\n\u001b[0;32m     98\u001b[0m         \u001b[1;32mif\u001b[0m \u001b[0mngspice_shared\u001b[0m \u001b[1;32mis\u001b[0m \u001b[1;32mNone\u001b[0m\u001b[1;33m:\u001b[0m\u001b[1;33m\u001b[0m\u001b[1;33m\u001b[0m\u001b[0m\n\u001b[1;32m---> 99\u001b[1;33m             \u001b[0mself\u001b[0m\u001b[1;33m.\u001b[0m\u001b[0m_ngspice_shared\u001b[0m \u001b[1;33m=\u001b[0m \u001b[0mNgSpiceShared\u001b[0m\u001b[1;33m.\u001b[0m\u001b[0mnew_instance\u001b[0m\u001b[1;33m(\u001b[0m\u001b[1;33m)\u001b[0m\u001b[1;33m\u001b[0m\u001b[1;33m\u001b[0m\u001b[0m\n\u001b[0m\u001b[0;32m    100\u001b[0m         \u001b[1;32melse\u001b[0m\u001b[1;33m:\u001b[0m\u001b[1;33m\u001b[0m\u001b[1;33m\u001b[0m\u001b[0m\n\u001b[0;32m    101\u001b[0m             \u001b[0mself\u001b[0m\u001b[1;33m.\u001b[0m\u001b[0m_ngspice_shared\u001b[0m \u001b[1;33m=\u001b[0m \u001b[0mngspice_shared\u001b[0m\u001b[1;33m\u001b[0m\u001b[1;33m\u001b[0m\u001b[0m\n",
      "\u001b[1;32mc:\\users\\tiarl\\appdata\\local\\programs\\python\\python36-32\\lib\\site-packages\\PySpice\\Spice\\NgSpice\\Shared.py\u001b[0m in \u001b[0;36mnew_instance\u001b[1;34m(cls, ngspice_id, send_data)\u001b[0m\n\u001b[0;32m    329\u001b[0m         \u001b[1;32melse\u001b[0m\u001b[1;33m:\u001b[0m\u001b[1;33m\u001b[0m\u001b[1;33m\u001b[0m\u001b[0m\n\u001b[0;32m    330\u001b[0m             \u001b[0mcls\u001b[0m\u001b[1;33m.\u001b[0m\u001b[0m_logger\u001b[0m\u001b[1;33m.\u001b[0m\u001b[0minfo\u001b[0m\u001b[1;33m(\u001b[0m\u001b[1;34m\"New instance for id {}\"\u001b[0m\u001b[1;33m.\u001b[0m\u001b[0mformat\u001b[0m\u001b[1;33m(\u001b[0m\u001b[0mngspice_id\u001b[0m\u001b[1;33m)\u001b[0m\u001b[1;33m)\u001b[0m\u001b[1;33m\u001b[0m\u001b[1;33m\u001b[0m\u001b[0m\n\u001b[1;32m--> 331\u001b[1;33m             \u001b[0minstance\u001b[0m \u001b[1;33m=\u001b[0m \u001b[0mcls\u001b[0m\u001b[1;33m(\u001b[0m\u001b[0mngspice_id\u001b[0m\u001b[1;33m=\u001b[0m\u001b[0mngspice_id\u001b[0m\u001b[1;33m,\u001b[0m \u001b[0msend_data\u001b[0m\u001b[1;33m=\u001b[0m\u001b[0msend_data\u001b[0m\u001b[1;33m)\u001b[0m\u001b[1;33m\u001b[0m\u001b[1;33m\u001b[0m\u001b[0m\n\u001b[0m\u001b[0;32m    332\u001b[0m             \u001b[0mcls\u001b[0m\u001b[1;33m.\u001b[0m\u001b[0m_instances\u001b[0m\u001b[1;33m[\u001b[0m\u001b[0mngspice_id\u001b[0m\u001b[1;33m]\u001b[0m \u001b[1;33m=\u001b[0m \u001b[0minstance\u001b[0m\u001b[1;33m\u001b[0m\u001b[1;33m\u001b[0m\u001b[0m\n\u001b[0;32m    333\u001b[0m             \u001b[1;32mreturn\u001b[0m \u001b[0minstance\u001b[0m\u001b[1;33m\u001b[0m\u001b[1;33m\u001b[0m\u001b[0m\n",
      "\u001b[1;32mc:\\users\\tiarl\\appdata\\local\\programs\\python\\python36-32\\lib\\site-packages\\PySpice\\Spice\\NgSpice\\Shared.py\u001b[0m in \u001b[0;36m__init__\u001b[1;34m(self, ngspice_id, send_data)\u001b[0m\n\u001b[0;32m    347\u001b[0m         \u001b[0mself\u001b[0m\u001b[1;33m.\u001b[0m\u001b[0m_stderr\u001b[0m \u001b[1;33m=\u001b[0m \u001b[1;33m[\u001b[0m\u001b[1;33m]\u001b[0m\u001b[1;33m\u001b[0m\u001b[1;33m\u001b[0m\u001b[0m\n\u001b[0;32m    348\u001b[0m \u001b[1;33m\u001b[0m\u001b[0m\n\u001b[1;32m--> 349\u001b[1;33m         \u001b[0mself\u001b[0m\u001b[1;33m.\u001b[0m\u001b[0m_load_library\u001b[0m\u001b[1;33m(\u001b[0m\u001b[1;33m)\u001b[0m\u001b[1;33m\u001b[0m\u001b[1;33m\u001b[0m\u001b[0m\n\u001b[0m\u001b[0;32m    350\u001b[0m         \u001b[0mself\u001b[0m\u001b[1;33m.\u001b[0m\u001b[0m_init_ngspice\u001b[0m\u001b[1;33m(\u001b[0m\u001b[0msend_data\u001b[0m\u001b[1;33m)\u001b[0m\u001b[1;33m\u001b[0m\u001b[1;33m\u001b[0m\u001b[0m\n\u001b[0;32m    351\u001b[0m \u001b[1;33m\u001b[0m\u001b[0m\n",
      "\u001b[1;32mc:\\users\\tiarl\\appdata\\local\\programs\\python\\python36-32\\lib\\site-packages\\PySpice\\Spice\\NgSpice\\Shared.py\u001b[0m in \u001b[0;36m_load_library\u001b[1;34m(self)\u001b[0m\n\u001b[0;32m    373\u001b[0m         \u001b[0mlibrary_path\u001b[0m \u001b[1;33m=\u001b[0m \u001b[0mself\u001b[0m\u001b[1;33m.\u001b[0m\u001b[0mLIBRARY_PATH\u001b[0m\u001b[1;33m.\u001b[0m\u001b[0mformat\u001b[0m\u001b[1;33m(\u001b[0m\u001b[0mlibrary_prefix\u001b[0m\u001b[1;33m)\u001b[0m\u001b[1;33m\u001b[0m\u001b[1;33m\u001b[0m\u001b[0m\n\u001b[0;32m    374\u001b[0m         \u001b[0mself\u001b[0m\u001b[1;33m.\u001b[0m\u001b[0m_logger\u001b[0m\u001b[1;33m.\u001b[0m\u001b[0mdebug\u001b[0m\u001b[1;33m(\u001b[0m\u001b[1;34m'Load {}'\u001b[0m\u001b[1;33m.\u001b[0m\u001b[0mformat\u001b[0m\u001b[1;33m(\u001b[0m\u001b[0mlibrary_path\u001b[0m\u001b[1;33m)\u001b[0m\u001b[1;33m)\u001b[0m\u001b[1;33m\u001b[0m\u001b[1;33m\u001b[0m\u001b[0m\n\u001b[1;32m--> 375\u001b[1;33m         \u001b[0mself\u001b[0m\u001b[1;33m.\u001b[0m\u001b[0m_ngspice_shared\u001b[0m \u001b[1;33m=\u001b[0m \u001b[0mffi\u001b[0m\u001b[1;33m.\u001b[0m\u001b[0mdlopen\u001b[0m\u001b[1;33m(\u001b[0m\u001b[0mlibrary_path\u001b[0m\u001b[1;33m)\u001b[0m\u001b[1;33m\u001b[0m\u001b[1;33m\u001b[0m\u001b[0m\n\u001b[0m\u001b[0;32m    376\u001b[0m \u001b[1;33m\u001b[0m\u001b[0m\n\u001b[0;32m    377\u001b[0m         \u001b[1;31m# Note: cannot yet execute command\u001b[0m\u001b[1;33m\u001b[0m\u001b[1;33m\u001b[0m\u001b[1;33m\u001b[0m\u001b[0m\n",
      "\u001b[1;32mc:\\users\\tiarl\\appdata\\local\\programs\\python\\python36-32\\lib\\site-packages\\cffi\\api.py\u001b[0m in \u001b[0;36mdlopen\u001b[1;34m(self, name, flags)\u001b[0m\n\u001b[0;32m    144\u001b[0m         \u001b[1;32massert\u001b[0m \u001b[0misinstance\u001b[0m\u001b[1;33m(\u001b[0m\u001b[0mname\u001b[0m\u001b[1;33m,\u001b[0m \u001b[0mbasestring\u001b[0m\u001b[1;33m)\u001b[0m \u001b[1;32mor\u001b[0m \u001b[0mname\u001b[0m \u001b[1;32mis\u001b[0m \u001b[1;32mNone\u001b[0m\u001b[1;33m\u001b[0m\u001b[1;33m\u001b[0m\u001b[0m\n\u001b[0;32m    145\u001b[0m         \u001b[1;32mwith\u001b[0m \u001b[0mself\u001b[0m\u001b[1;33m.\u001b[0m\u001b[0m_lock\u001b[0m\u001b[1;33m:\u001b[0m\u001b[1;33m\u001b[0m\u001b[1;33m\u001b[0m\u001b[0m\n\u001b[1;32m--> 146\u001b[1;33m             \u001b[0mlib\u001b[0m\u001b[1;33m,\u001b[0m \u001b[0mfunction_cache\u001b[0m \u001b[1;33m=\u001b[0m \u001b[0m_make_ffi_library\u001b[0m\u001b[1;33m(\u001b[0m\u001b[0mself\u001b[0m\u001b[1;33m,\u001b[0m \u001b[0mname\u001b[0m\u001b[1;33m,\u001b[0m \u001b[0mflags\u001b[0m\u001b[1;33m)\u001b[0m\u001b[1;33m\u001b[0m\u001b[1;33m\u001b[0m\u001b[0m\n\u001b[0m\u001b[0;32m    147\u001b[0m             \u001b[0mself\u001b[0m\u001b[1;33m.\u001b[0m\u001b[0m_function_caches\u001b[0m\u001b[1;33m.\u001b[0m\u001b[0mappend\u001b[0m\u001b[1;33m(\u001b[0m\u001b[0mfunction_cache\u001b[0m\u001b[1;33m)\u001b[0m\u001b[1;33m\u001b[0m\u001b[1;33m\u001b[0m\u001b[0m\n\u001b[0;32m    148\u001b[0m             \u001b[0mself\u001b[0m\u001b[1;33m.\u001b[0m\u001b[0m_libraries\u001b[0m\u001b[1;33m.\u001b[0m\u001b[0mappend\u001b[0m\u001b[1;33m(\u001b[0m\u001b[0mlib\u001b[0m\u001b[1;33m)\u001b[0m\u001b[1;33m\u001b[0m\u001b[1;33m\u001b[0m\u001b[0m\n",
      "\u001b[1;32mc:\\users\\tiarl\\appdata\\local\\programs\\python\\python36-32\\lib\\site-packages\\cffi\\api.py\u001b[0m in \u001b[0;36m_make_ffi_library\u001b[1;34m(ffi, libname, flags)\u001b[0m\n\u001b[0;32m    826\u001b[0m \u001b[1;32mdef\u001b[0m \u001b[0m_make_ffi_library\u001b[0m\u001b[1;33m(\u001b[0m\u001b[0mffi\u001b[0m\u001b[1;33m,\u001b[0m \u001b[0mlibname\u001b[0m\u001b[1;33m,\u001b[0m \u001b[0mflags\u001b[0m\u001b[1;33m)\u001b[0m\u001b[1;33m:\u001b[0m\u001b[1;33m\u001b[0m\u001b[1;33m\u001b[0m\u001b[0m\n\u001b[0;32m    827\u001b[0m     \u001b[0mbackend\u001b[0m \u001b[1;33m=\u001b[0m \u001b[0mffi\u001b[0m\u001b[1;33m.\u001b[0m\u001b[0m_backend\u001b[0m\u001b[1;33m\u001b[0m\u001b[1;33m\u001b[0m\u001b[0m\n\u001b[1;32m--> 828\u001b[1;33m     \u001b[0mbackendlib\u001b[0m \u001b[1;33m=\u001b[0m \u001b[0m_load_backend_lib\u001b[0m\u001b[1;33m(\u001b[0m\u001b[0mbackend\u001b[0m\u001b[1;33m,\u001b[0m \u001b[0mlibname\u001b[0m\u001b[1;33m,\u001b[0m \u001b[0mflags\u001b[0m\u001b[1;33m)\u001b[0m\u001b[1;33m\u001b[0m\u001b[1;33m\u001b[0m\u001b[0m\n\u001b[0m\u001b[0;32m    829\u001b[0m     \u001b[1;31m#\u001b[0m\u001b[1;33m\u001b[0m\u001b[1;33m\u001b[0m\u001b[1;33m\u001b[0m\u001b[0m\n\u001b[0;32m    830\u001b[0m     \u001b[1;32mdef\u001b[0m \u001b[0maccessor_function\u001b[0m\u001b[1;33m(\u001b[0m\u001b[0mname\u001b[0m\u001b[1;33m)\u001b[0m\u001b[1;33m:\u001b[0m\u001b[1;33m\u001b[0m\u001b[1;33m\u001b[0m\u001b[0m\n",
      "\u001b[1;32mc:\\users\\tiarl\\appdata\\local\\programs\\python\\python36-32\\lib\\site-packages\\cffi\\api.py\u001b[0m in \u001b[0;36m_load_backend_lib\u001b[1;34m(backend, name, flags)\u001b[0m\n\u001b[0;32m    821\u001b[0m         \u001b[1;32mif\u001b[0m \u001b[0mfirst_error\u001b[0m \u001b[1;32mis\u001b[0m \u001b[1;32mnot\u001b[0m \u001b[1;32mNone\u001b[0m\u001b[1;33m:\u001b[0m\u001b[1;33m\u001b[0m\u001b[1;33m\u001b[0m\u001b[0m\n\u001b[0;32m    822\u001b[0m             \u001b[0mmsg\u001b[0m \u001b[1;33m=\u001b[0m \u001b[1;34m\"%s.  Additionally, %s\"\u001b[0m \u001b[1;33m%\u001b[0m \u001b[1;33m(\u001b[0m\u001b[0mfirst_error\u001b[0m\u001b[1;33m,\u001b[0m \u001b[0mmsg\u001b[0m\u001b[1;33m)\u001b[0m\u001b[1;33m\u001b[0m\u001b[1;33m\u001b[0m\u001b[0m\n\u001b[1;32m--> 823\u001b[1;33m         \u001b[1;32mraise\u001b[0m \u001b[0mOSError\u001b[0m\u001b[1;33m(\u001b[0m\u001b[0mmsg\u001b[0m\u001b[1;33m)\u001b[0m\u001b[1;33m\u001b[0m\u001b[1;33m\u001b[0m\u001b[0m\n\u001b[0m\u001b[0;32m    824\u001b[0m     \u001b[1;32mreturn\u001b[0m \u001b[0mbackend\u001b[0m\u001b[1;33m.\u001b[0m\u001b[0mload_library\u001b[0m\u001b[1;33m(\u001b[0m\u001b[0mpath\u001b[0m\u001b[1;33m,\u001b[0m \u001b[0mflags\u001b[0m\u001b[1;33m)\u001b[0m\u001b[1;33m\u001b[0m\u001b[1;33m\u001b[0m\u001b[0m\n\u001b[0;32m    825\u001b[0m \u001b[1;33m\u001b[0m\u001b[0m\n",
      "\u001b[1;31mOSError\u001b[0m: cannot load library 'C:\\Program Files\\Spice_dll\\dll-vs\\ngspice.dll': error 0x7e.  Additionally, ctypes.util.find_library() did not manage to locate a library called 'C:\\\\Program Files\\\\Spice_dll\\\\dll-vs\\\\ngspice.dll'"
     ]
    }
   ],
   "source": [
    "circuit = Circuit('Voltage Divider')\n",
    "\n",
    "circuit.V('input', 'in', circuit.gnd, 10@u_V)\n",
    "circuit.R(1, 'in', 'out', 9@u_kΩ)\n",
    "circuit.R(2, 'out', circuit.gnd, 1@u_kΩ)\n",
    "\n",
    "\n",
    "simulator = circuit.simulator(temperature=25, nominal_temperature=25)\n",
    "\n",
    "analysis = simulator.operating_point()\n",
    "for node in (analysis['in'], analysis.out): # .in is invalid !\n",
    "    print('Node {}: {} V'.format(str(node), float(node)))"
   ]
  },
  {
   "cell_type": "code",
   "execution_count": null,
   "metadata": {},
   "outputs": [],
   "source": [
    "# Fixme: Xyce sensitivity analysis\n",
    "analysis = simulator.dc_sensitivity('v(out)')\n",
    "for element in analysis.elements.values():\n",
    "    print(element, float(element))"
   ]
  },
  {
   "cell_type": "markdown",
   "metadata": {},
   "source": []
  },
  {
   "cell_type": "code",
   "execution_count": null,
   "metadata": {},
   "outputs": [],
   "source": [
    "import PySpice.Logging.Logging as Logging\n",
    "logger = Logging.setup_logging()\n",
    "\n",
    "\n",
    "from PySpice.Spice.Netlist import Circuit\n",
    "from PySpice.Unit import *"
   ]
  },
  {
   "cell_type": "code",
   "execution_count": null,
   "metadata": {},
   "outputs": [],
   "source": [
    "circuit = Circuit('Resistor Bridge')\n",
    "\n",
    "circuit.V('input', 1, circuit.gnd, 10@u_V)\n",
    "circuit.R(1, 1, 2, 2@u_kΩ)\n",
    "circuit.R(2, 1, 3, 1@u_kΩ)\n",
    "circuit.R(3, 2, circuit.gnd, 1@u_kΩ)\n",
    "circuit.R(4, 3, circuit.gnd, 2@u_kΩ)\n",
    "circuit.R(5, 3, 2, 2@u_kΩ)\n",
    "\n",
    "simulator = circuit.simulator(temperature=25, nominal_temperature=25)\n",
    "analysis = simulator.operating_point()\n",
    "\n",
    "for node in analysis.nodes.values():\n",
    "    print('Node {}: {:4.1f} V'.format(str(node), float(node))) # Fixme: format value + unit"
   ]
  },
  {
   "cell_type": "markdown",
   "metadata": {},
   "source": []
  },
  {
   "cell_type": "code",
   "execution_count": null,
   "metadata": {},
   "outputs": [],
   "source": [
    "import matplotlib.pyplot as plt\n",
    "\n",
    "\n",
    "import PySpice.Logging.Logging as Logging\n",
    "logger = Logging.setup_logging()\n",
    "\n",
    "\n",
    "from PySpice.Doc.ExampleTools import find_libraries\n",
    "from PySpice.Probe.Plot import plot\n",
    "from PySpice.Spice.Library import SpiceLibrary\n",
    "from PySpice.Spice.Netlist import Circuit\n",
    "from PySpice.Unit import *\n",
    "\n",
    "\n",
    "libraries_path = find_libraries()\n",
    "spice_library = SpiceLibrary(libraries_path)\n",
    "\n",
    "\n",
    "\n",
    "circuit = Circuit('Buck Converter')\n",
    "\n",
    "circuit.include(spice_library['1N5822']) # Schottky diode\n",
    "circuit.include(spice_library['irf150'])\n",
    "\n",
    "# From Microchip WebSeminars - Buck Converter Design Example\n",
    "\n",
    "Vin = 12@u_V\n",
    "Vout = 5@u_V\n",
    "ratio = Vout / Vin\n",
    "\n",
    "Iload = 2@u_A\n",
    "Rload = Vout / (.8 * Iload)\n",
    "\n",
    "frequency = 400@u_kHz\n",
    "period = frequency.period\n",
    "duty_cycle = ratio * period\n",
    "\n",
    "ripple_current = .3 * Iload # typically 30 %\n",
    "ripple_voltage = 50@u_mV\n",
    "\n",
    "print('ratio =', ratio)\n",
    "print('RLoad =', Rload)\n",
    "print('period =', period.canonise())\n",
    "print('duty_cycle =', duty_cycle.canonise())\n",
    "print('ripple_current =', ripple_current)"
   ]
  },
  {
   "cell_type": "code",
   "execution_count": null,
   "metadata": {},
   "outputs": [],
   "source": [
    "L = (Vin - Vout) * duty_cycle / ripple_current\n",
    "RL = 37@u_mΩ"
   ]
  },
  {
   "cell_type": "code",
   "execution_count": null,
   "metadata": {},
   "outputs": [],
   "source": [
    "ESR = 30@u_mΩ\n",
    "ESL = 0\n",
    "Cout = (ripple_current * duty_cycle) / (ripple_voltage - ripple_current * ESR)\n",
    "\n",
    "ripple_current_in = Iload / 2\n",
    "ripple_voltage_in = 200@u_mV\n",
    "ESR_in = 120@u_mΩ\n",
    "Cin = duty_cycle / (ripple_voltage_in / ripple_current_in - ESR_in)\n",
    "\n",
    "L = L.canonise()\n",
    "Cout = Cout.canonise()\n",
    "Cin = Cin.canonise()\n",
    "\n",
    "print('L =', L)\n",
    "print('Cout =', Cout)\n",
    "print('Cint =', Cin)\n",
    "\n",
    "circuit.V('in', 'in', circuit.gnd, Vin)\n",
    "circuit.C('in', 'in', circuit.gnd, Cin)\n",
    "\n",
    "# Fixme: out drop from 12V to 4V\n",
    "# circuit.VCS('switch', 'gate', circuit.gnd, 'in', 'source', model='Switch', initial_state='off')\n",
    "# circuit.PulseVoltageSource('pulse', 'gate', circuit.gnd, 0@u_V, Vin, duty_cycle, period)\n",
    "# circuit.model('Switch', 'SW', ron=1@u_mΩ, roff=10@u_MΩ)\n",
    "\n",
    "# Fixme: Vgate => Vout ???\n",
    "circuit.X('Q', 'irf150', 'in', 'gate', 'source')\n",
    "# circuit.PulseVoltageSource('pulse', 'gate', 'source', 0@u_V, Vin, duty_cycle, period)\n",
    "circuit.R('gate', 'gate', 'clock', 1@u_Ω)\n",
    "circuit.PulseVoltageSource('pulse', 'clock', circuit.gnd, 0@u_V, 2.*Vin, duty_cycle, period)\n",
    "\n",
    "circuit.X('D', '1N5822', circuit.gnd, 'source')\n",
    "circuit.L(1, 'source', 1, L)\n",
    "circuit.R('L', 1, 'out', RL)\n",
    "circuit.C(1, 'out', circuit.gnd, Cout) # , initial_condition=0@u_V\n",
    "circuit.R('load', 'out', circuit.gnd, Rload)\n",
    "\n",
    "simulator = circuit.simulator(temperature=25, nominal_temperature=25)\n",
    "analysis = simulator.transient(step_time=period/300, end_time=period*150)\n",
    "\n",
    "figure = plt.figure(1, (20, 10))\n",
    "axe = plt.subplot(111)\n",
    "\n",
    "plot(analysis.out, axis=axe)\n",
    "plot(analysis['source'], axis=axe)\n",
    "# plot(analysis['source'] - analysis['out'], axis=axe)\n",
    "# plot(analysis['gate'], axis=axe)\n",
    "plt.axhline(y=float(Vout), color='red')\n",
    "plt.legend(('Vout [V]', 'Vsource [V]'), loc=(.8,.8))\n",
    "plt.grid()\n",
    "plt.xlabel('t [s]')\n",
    "plt.ylabel('[V]')\n",
    "\n",
    "plt.tight_layout()\n",
    "plt.show()"
   ]
  },
  {
   "cell_type": "code",
   "execution_count": null,
   "metadata": {},
   "outputs": [],
   "source": []
  },
  {
   "cell_type": "code",
   "execution_count": null,
   "metadata": {},
   "outputs": [],
   "source": []
  },
  {
   "cell_type": "code",
   "execution_count": null,
   "metadata": {},
   "outputs": [],
   "source": []
  },
  {
   "cell_type": "code",
   "execution_count": null,
   "metadata": {},
   "outputs": [],
   "source": []
  },
  {
   "cell_type": "code",
   "execution_count": null,
   "metadata": {},
   "outputs": [],
   "source": []
  }
 ],
 "metadata": {
  "kernelspec": {
   "display_name": "Python 3",
   "language": "python",
   "name": "python3"
  },
  "language_info": {
   "codemirror_mode": {
    "name": "ipython",
    "version": 3
   },
   "file_extension": ".py",
   "mimetype": "text/x-python",
   "name": "python",
   "nbconvert_exporter": "python",
   "pygments_lexer": "ipython3",
   "version": "3.6.8"
  }
 },
 "nbformat": 4,
 "nbformat_minor": 2
}
